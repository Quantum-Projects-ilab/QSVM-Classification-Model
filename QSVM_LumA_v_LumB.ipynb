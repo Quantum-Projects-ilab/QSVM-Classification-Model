{
  "nbformat": 4,
  "nbformat_minor": 0,
  "metadata": {
    "colab": {
      "name": "QSVM - LumA v LumB.ipynb",
      "provenance": []
    },
    "kernelspec": {
      "name": "python3",
      "display_name": "Python 3"
    }
  },
  "cells": [
    {
      "cell_type": "markdown",
      "metadata": {
        "id": "yM9wIfZ6qaDn",
        "colab_type": "text"
      },
      "source": [
        "##QSVM on LumA v LumB\n",
        "We start off the process by installing qiskit to this Jupyter Notebook. The process consists of preparing normalized data to pass it into qiskit's QSVM function and then waiting for the results to be processed. \n",
        "The QSVM process is almost exactly the same as a normal SVM. It differs only in the feature map which as you probably guessed, is a Quantum Circuit in the QSVM process."
      ]
    },
    {
      "cell_type": "code",
      "metadata": {
        "id": "kFueFzFparZl",
        "colab_type": "code",
        "outputId": "034d0433-7867-4cc1-f313-8e42df498e20",
        "colab": {
          "base_uri": "https://localhost:8080/",
          "height": 1000
        }
      },
      "source": [
        "!pip install qiskit"
      ],
      "execution_count": 0,
      "outputs": [
        {
          "output_type": "stream",
          "text": [
            "Collecting qiskit\n",
            "  Downloading https://files.pythonhosted.org/packages/db/a4/587cbe0186990b0f07b6161458461ae8d9ddbccdb00f827a23384eeb77fa/qiskit-0.19.3.tar.gz\n",
            "Collecting qiskit-terra==0.14.1\n",
            "\u001b[?25l  Downloading https://files.pythonhosted.org/packages/55/c3/6c3561cbcf69a791307ada32d61b4eeb7ab6a38ac968e0f1e36f0e40b249/qiskit_terra-0.14.1-cp36-cp36m-manylinux2010_x86_64.whl (6.7MB)\n",
            "\u001b[K     |████████████████████████████████| 6.7MB 2.6MB/s \n",
            "\u001b[?25hCollecting qiskit-aer==0.5.2\n",
            "\u001b[?25l  Downloading https://files.pythonhosted.org/packages/45/6f/2d269684891b634cce6ddb5684fd004c7b6bf986cec8544f4b6f495c8b99/qiskit_aer-0.5.2-cp36-cp36m-manylinux2010_x86_64.whl (23.3MB)\n",
            "\u001b[K     |████████████████████████████████| 23.3MB 13.0MB/s \n",
            "\u001b[?25hCollecting qiskit-ibmq-provider==0.7.2\n",
            "\u001b[?25l  Downloading https://files.pythonhosted.org/packages/92/1f/0c6b290064a471a8a9c1e3366367b46d320efdad6b730eadefbd1f3c4eb0/qiskit_ibmq_provider-0.7.2-py3-none-any.whl (155kB)\n",
            "\u001b[K     |████████████████████████████████| 163kB 38.6MB/s \n",
            "\u001b[?25hCollecting qiskit-ignis==0.3.0\n",
            "\u001b[?25l  Downloading https://files.pythonhosted.org/packages/b9/f5/25c92e7c816da820163d0e951b5f340a5f69a4088c42fb44df4a9ba6bf14/qiskit_ignis-0.3.0-py3-none-any.whl (172kB)\n",
            "\u001b[K     |████████████████████████████████| 174kB 51.6MB/s \n",
            "\u001b[?25hCollecting qiskit-aqua==0.7.1\n",
            "\u001b[?25l  Downloading https://files.pythonhosted.org/packages/f4/dc/fa9282e9a40ca4adc6cf0a542fd04b179d477d54e8197c043b02deeb542b/qiskit_aqua-0.7.1-py3-none-any.whl (1.9MB)\n",
            "\u001b[K     |████████████████████████████████| 1.9MB 47.9MB/s \n",
            "\u001b[?25hCollecting ply>=3.10\n",
            "\u001b[?25l  Downloading https://files.pythonhosted.org/packages/a3/58/35da89ee790598a0700ea49b2a66594140f44dec458c07e8e3d4979137fc/ply-3.11-py2.py3-none-any.whl (49kB)\n",
            "\u001b[K     |████████████████████████████████| 51kB 7.1MB/s \n",
            "\u001b[?25hRequirement already satisfied: python-dateutil>=2.8.0 in /usr/local/lib/python3.6/dist-packages (from qiskit-terra==0.14.1->qiskit) (2.8.1)\n",
            "Collecting retworkx>=0.3.2\n",
            "\u001b[?25l  Downloading https://files.pythonhosted.org/packages/28/44/e28d30808fc093bb82393737f36f1fd370afe5ed82a08c382c4672340916/retworkx-0.3.4-cp36-cp36m-manylinux2010_x86_64.whl (763kB)\n",
            "\u001b[K     |████████████████████████████████| 768kB 43.0MB/s \n",
            "\u001b[?25hRequirement already satisfied: dill>=0.3 in /usr/local/lib/python3.6/dist-packages (from qiskit-terra==0.14.1->qiskit) (0.3.1.1)\n",
            "Collecting fastjsonschema>=2.10\n",
            "  Downloading https://files.pythonhosted.org/packages/3a/2b/5e93ebbdc92fe742bfc006f79336c2ddcb436747ef579bc05057c43ad876/fastjsonschema-2.14.4-py3-none-any.whl\n",
            "Collecting sympy>=1.3\n",
            "\u001b[?25l  Downloading https://files.pythonhosted.org/packages/a4/ea/590e1f2c73a1b8f878a1398b0edbf261d660439a9f851accb39db73d8e2f/sympy-1.6-py3-none-any.whl (5.8MB)\n",
            "\u001b[K     |████████████████████████████████| 5.8MB 43.8MB/s \n",
            "\u001b[?25hRequirement already satisfied: psutil>=5 in /usr/local/lib/python3.6/dist-packages (from qiskit-terra==0.14.1->qiskit) (5.4.8)\n",
            "Requirement already satisfied: networkx>=2.2; python_version > \"3.5\" in /usr/local/lib/python3.6/dist-packages (from qiskit-terra==0.14.1->qiskit) (2.4)\n",
            "Requirement already satisfied: scipy>=1.4 in /usr/local/lib/python3.6/dist-packages (from qiskit-terra==0.14.1->qiskit) (1.4.1)\n",
            "Collecting python-constraint>=1.4\n",
            "  Downloading https://files.pythonhosted.org/packages/37/8b/5f1bc2734ca611943e1d6733ee244238679f6410a10cd45ede55a61a8402/python-constraint-1.4.0.tar.bz2\n",
            "Collecting marshmallow<4,>=3\n",
            "\u001b[?25l  Downloading https://files.pythonhosted.org/packages/8e/4d/1c64381398d25bc46250373dbeec89713f06e23eba8531c9eccd4e671a8a/marshmallow-3.6.1-py2.py3-none-any.whl (45kB)\n",
            "\u001b[K     |████████████████████████████████| 51kB 6.6MB/s \n",
            "\u001b[?25hRequirement already satisfied: jsonschema>=2.6 in /usr/local/lib/python3.6/dist-packages (from qiskit-terra==0.14.1->qiskit) (2.6.0)\n",
            "Requirement already satisfied: numpy>=1.17 in /usr/local/lib/python3.6/dist-packages (from qiskit-terra==0.14.1->qiskit) (1.18.5)\n",
            "Collecting marshmallow-polyfield<6,>=5.7\n",
            "  Downloading https://files.pythonhosted.org/packages/0c/7e/ceb805d05cd03709b8de122b4ac1e736c4eb91d05281ad2a2bcb484accef/marshmallow-polyfield-5.9.tar.gz\n",
            "Requirement already satisfied: cython>=0.27.1 in /usr/local/lib/python3.6/dist-packages (from qiskit-aer==0.5.2->qiskit) (0.29.19)\n",
            "Collecting pybind11>=2.4\n",
            "\u001b[?25l  Downloading https://files.pythonhosted.org/packages/89/e3/d576f6f02bc75bacbc3d42494e8f1d063c95617d86648dba243c2cb3963e/pybind11-2.5.0-py2.py3-none-any.whl (296kB)\n",
            "\u001b[K     |████████████████████████████████| 296kB 44.0MB/s \n",
            "\u001b[?25hRequirement already satisfied: urllib3>=1.21.1 in /usr/local/lib/python3.6/dist-packages (from qiskit-ibmq-provider==0.7.2->qiskit) (1.24.3)\n",
            "Collecting requests-ntlm>=1.1.0\n",
            "  Downloading https://files.pythonhosted.org/packages/03/4b/8b9a1afde8072c4d5710d9fa91433d504325821b038e00237dc8d6d833dc/requests_ntlm-1.1.0-py2.py3-none-any.whl\n",
            "Requirement already satisfied: requests>=2.19 in /usr/local/lib/python3.6/dist-packages (from qiskit-ibmq-provider==0.7.2->qiskit) (2.23.0)\n",
            "Collecting websockets<8,>=7\n",
            "\u001b[?25l  Downloading https://files.pythonhosted.org/packages/43/71/8bfa882b9c502c36e5c9ef6732969533670d2b039cbf95a82ced8f762b80/websockets-7.0-cp36-cp36m-manylinux1_x86_64.whl (63kB)\n",
            "\u001b[K     |████████████████████████████████| 71kB 8.9MB/s \n",
            "\u001b[?25hCollecting nest-asyncio!=1.1.0,>=1.0.0\n",
            "  Downloading https://files.pythonhosted.org/packages/74/b4/b24e0a271fb78990c2c62238321686454824b1357ce7abcf20f431fd903d/nest_asyncio-1.3.3-py3-none-any.whl\n",
            "Requirement already satisfied: setuptools>=40.1.0 in /usr/local/lib/python3.6/dist-packages (from qiskit-ignis==0.3.0->qiskit) (47.1.1)\n",
            "Requirement already satisfied: scikit-learn>=0.20.0 in /usr/local/lib/python3.6/dist-packages (from qiskit-aqua==0.7.1->qiskit) (0.22.2.post1)\n",
            "Collecting docplex\n",
            "\u001b[?25l  Downloading https://files.pythonhosted.org/packages/00/06/ad4441a00b8a9ff415882ff31273fe6519034879b6c2b65c47758a0278d5/docplex-2.14.186.tar.gz (572kB)\n",
            "\u001b[K     |████████████████████████████████| 573kB 34.3MB/s \n",
            "\u001b[?25hCollecting pyscf; sys_platform != \"win32\"\n",
            "\u001b[?25l  Downloading https://files.pythonhosted.org/packages/0c/69/c6dad63aec5519c287036e82beb36ca46e4a409604676b8787425fa7499c/pyscf-1.7.3-cp36-cp36m-manylinux1_x86_64.whl (26.0MB)\n",
            "\u001b[K     |████████████████████████████████| 26.0MB 131kB/s \n",
            "\u001b[?25hRequirement already satisfied: fastdtw in /usr/local/lib/python3.6/dist-packages (from qiskit-aqua==0.7.1->qiskit) (0.3.4)\n",
            "Requirement already satisfied: h5py in /usr/local/lib/python3.6/dist-packages (from qiskit-aqua==0.7.1->qiskit) (2.10.0)\n",
            "Collecting quandl\n",
            "  Downloading https://files.pythonhosted.org/packages/07/ab/8cd479fba8a9b197a43a0d55dd534b066fb8e5a0a04b5c0384cbc5d663aa/Quandl-3.5.0-py2.py3-none-any.whl\n",
            "Collecting dlx\n",
            "  Downloading https://files.pythonhosted.org/packages/54/c0/b8fb5bb727e983b6f5251433ef941b48f38c65bb0bd6ec509e9185bcd406/dlx-1.0.4.tar.gz\n",
            "Requirement already satisfied: six>=1.5 in /usr/local/lib/python3.6/dist-packages (from python-dateutil>=2.8.0->qiskit-terra==0.14.1->qiskit) (1.12.0)\n",
            "Requirement already satisfied: mpmath>=0.19 in /usr/local/lib/python3.6/dist-packages (from sympy>=1.3->qiskit-terra==0.14.1->qiskit) (1.1.0)\n",
            "Requirement already satisfied: decorator>=4.3.0 in /usr/local/lib/python3.6/dist-packages (from networkx>=2.2; python_version > \"3.5\"->qiskit-terra==0.14.1->qiskit) (4.4.2)\n",
            "Collecting cryptography>=1.3\n",
            "\u001b[?25l  Downloading https://files.pythonhosted.org/packages/3c/04/686efee2dcdd25aecf357992e7d9362f443eb182ecd623f882bc9f7a6bba/cryptography-2.9.2-cp35-abi3-manylinux2010_x86_64.whl (2.7MB)\n",
            "\u001b[K     |████████████████████████████████| 2.7MB 48.3MB/s \n",
            "\u001b[?25hCollecting ntlm-auth>=1.0.2\n",
            "  Downloading https://files.pythonhosted.org/packages/50/09/5e397eb18685b14fd8b209e26cdb4fa6451c82c1bcc651fef05fa73e7b27/ntlm_auth-1.4.0-py2.py3-none-any.whl\n",
            "Requirement already satisfied: certifi>=2017.4.17 in /usr/local/lib/python3.6/dist-packages (from requests>=2.19->qiskit-ibmq-provider==0.7.2->qiskit) (2020.4.5.1)\n",
            "Requirement already satisfied: chardet<4,>=3.0.2 in /usr/local/lib/python3.6/dist-packages (from requests>=2.19->qiskit-ibmq-provider==0.7.2->qiskit) (3.0.4)\n",
            "Requirement already satisfied: idna<3,>=2.5 in /usr/local/lib/python3.6/dist-packages (from requests>=2.19->qiskit-ibmq-provider==0.7.2->qiskit) (2.9)\n",
            "Requirement already satisfied: joblib>=0.11 in /usr/local/lib/python3.6/dist-packages (from scikit-learn>=0.20.0->qiskit-aqua==0.7.1->qiskit) (0.15.1)\n",
            "Collecting inflection>=0.3.1\n",
            "  Downloading https://files.pythonhosted.org/packages/d2/cd/f04c661d1b5ba6b7d77008e8fedd28a27a683eeeffcd93c6b2dbe54ea983/inflection-0.5.0-py2.py3-none-any.whl\n",
            "Requirement already satisfied: more-itertools in /usr/local/lib/python3.6/dist-packages (from quandl->qiskit-aqua==0.7.1->qiskit) (8.3.0)\n",
            "Requirement already satisfied: pandas>=0.14 in /usr/local/lib/python3.6/dist-packages (from quandl->qiskit-aqua==0.7.1->qiskit) (1.0.4)\n",
            "Requirement already satisfied: cffi!=1.11.3,>=1.8 in /usr/local/lib/python3.6/dist-packages (from cryptography>=1.3->requests-ntlm>=1.1.0->qiskit-ibmq-provider==0.7.2->qiskit) (1.14.0)\n",
            "Requirement already satisfied: pytz>=2017.2 in /usr/local/lib/python3.6/dist-packages (from pandas>=0.14->quandl->qiskit-aqua==0.7.1->qiskit) (2018.9)\n",
            "Requirement already satisfied: pycparser in /usr/local/lib/python3.6/dist-packages (from cffi!=1.11.3,>=1.8->cryptography>=1.3->requests-ntlm>=1.1.0->qiskit-ibmq-provider==0.7.2->qiskit) (2.20)\n",
            "Building wheels for collected packages: qiskit, python-constraint, marshmallow-polyfield, docplex, dlx\n",
            "  Building wheel for qiskit (setup.py) ... \u001b[?25l\u001b[?25hdone\n",
            "  Created wheel for qiskit: filename=qiskit-0.19.3-cp36-none-any.whl size=2899 sha256=fad81f9578ed785c42a0fdfa763c77ccb31aaa6f73dfebf53d2923c8cd9ba6c0\n",
            "  Stored in directory: /root/.cache/pip/wheels/6d/48/7e/b22ec709562f69eead9f6fd544a7f4658ed02442d7b1fc3853\n",
            "  Building wheel for python-constraint (setup.py) ... \u001b[?25l\u001b[?25hdone\n",
            "  Created wheel for python-constraint: filename=python_constraint-1.4.0-py2.py3-none-any.whl size=24080 sha256=3375259b5a4b78a90af74f2d6963e32a14cc4ebbad919e2131ab1316fe92c14a\n",
            "  Stored in directory: /root/.cache/pip/wheels/34/31/15/7b070b25d0a549d20ce2e9fe6d727471c2c61ef904720fd40c\n",
            "  Building wheel for marshmallow-polyfield (setup.py) ... \u001b[?25l\u001b[?25hdone\n",
            "  Created wheel for marshmallow-polyfield: filename=marshmallow_polyfield-5.9-cp36-none-any.whl size=8537 sha256=653b6a33832c6eeecba8a14dcdb2e0e7c6bb4de8b535d190d4cd26599d197384\n",
            "  Stored in directory: /root/.cache/pip/wheels/69/27/3e/7472f75eab2db111aa387715fe009af15899459517fc1a1906\n",
            "  Building wheel for docplex (setup.py) ... \u001b[?25l\u001b[?25hdone\n",
            "  Created wheel for docplex: filename=docplex-2.14.186-cp36-none-any.whl size=634442 sha256=38f795e4fadcdcdafeca325d057be7f878c5242c84f6eeed6913ab34007839ae\n",
            "  Stored in directory: /root/.cache/pip/wheels/aa/28/cd/ba75f92d49b25dacec6b80f99efcc393dc84abf33f96632ac4\n",
            "  Building wheel for dlx (setup.py) ... \u001b[?25l\u001b[?25hdone\n",
            "  Created wheel for dlx: filename=dlx-1.0.4-cp36-none-any.whl size=5712 sha256=c23f258e3ce4ba85bd5c34741bb98c9d22e520442f34824977b62c02f2b8aec5\n",
            "  Stored in directory: /root/.cache/pip/wheels/bb/ba/15/fdd0deb104df3254912998150ba9245668db06b00af5912d1a\n",
            "Successfully built qiskit python-constraint marshmallow-polyfield docplex dlx\n",
            "Installing collected packages: ply, retworkx, fastjsonschema, sympy, python-constraint, marshmallow, marshmallow-polyfield, qiskit-terra, pybind11, qiskit-aer, cryptography, ntlm-auth, requests-ntlm, websockets, nest-asyncio, qiskit-ibmq-provider, qiskit-ignis, docplex, pyscf, inflection, quandl, dlx, qiskit-aqua, qiskit\n",
            "  Found existing installation: sympy 1.1.1\n",
            "    Uninstalling sympy-1.1.1:\n",
            "      Successfully uninstalled sympy-1.1.1\n",
            "Successfully installed cryptography-2.9.2 dlx-1.0.4 docplex-2.14.186 fastjsonschema-2.14.4 inflection-0.5.0 marshmallow-3.6.1 marshmallow-polyfield-5.9 nest-asyncio-1.3.3 ntlm-auth-1.4.0 ply-3.11 pybind11-2.5.0 pyscf-1.7.3 python-constraint-1.4.0 qiskit-0.19.3 qiskit-aer-0.5.2 qiskit-aqua-0.7.1 qiskit-ibmq-provider-0.7.2 qiskit-ignis-0.3.0 qiskit-terra-0.14.1 quandl-3.5.0 requests-ntlm-1.1.0 retworkx-0.3.4 sympy-1.6 websockets-7.0\n"
          ],
          "name": "stdout"
        }
      ]
    },
    {
      "cell_type": "code",
      "metadata": {
        "id": "26Bc1YmJas6d",
        "colab_type": "code",
        "colab": {}
      },
      "source": [
        "import numpy as np\n",
        "from qiskit import BasicAer\n",
        "from qiskit.providers.aer.noise import *\n",
        "from qiskit.aqua import QuantumInstance, aqua_globals\n",
        "from qiskit.aqua.components.feature_maps import SecondOrderExpansion\n",
        "from qiskit.aqua.components.multiclass_extensions import (ErrorCorrectingCode,AllPairs,OneAgainstRest)\n",
        "from qiskit.aqua.algorithms import QSVM\n",
        "from qiskit.aqua.utils import get_feature_dimension\n",
        "from qiskit import IBMQ\n",
        "import qiskit\n",
        "from qiskit.ml.datasets import *\n",
        "from qiskit.circuit.library import ZZFeatureMap\n",
        "from qiskit.aqua.utils import split_dataset_to_data_and_labels, map_label_to_class_name\n",
        "import pandas as pd\n",
        "from sklearn.datasets import load_breast_cancer\n",
        "from sklearn.model_selection import train_test_split\n",
        "from sklearn.decomposition import PCA\n",
        "from sklearn.preprocessing import StandardScaler, LabelEncoder\n",
        "from sklearn.svm import SVC\n",
        "from sklearn.pipeline import Pipeline\n",
        "from sklearn.metrics import accuracy_score, roc_curve, confusion_matrix\n",
        "from sklearn.model_selection import cross_val_predict\n",
        "import feather\n"
      ],
      "execution_count": 0,
      "outputs": []
    },
    {
      "cell_type": "markdown",
      "metadata": {
        "id": "fKL27VvRqhl5",
        "colab_type": "text"
      },
      "source": [
        "##Data Prep and loading my IBMQ Account\n",
        "The data that we're importing is from the 'Quantum Annealing versus Classical Machine Learning Algorithms' paper. The data is of a feather type, so we use pandas to read it in as a DataFrame."
      ]
    },
    {
      "cell_type": "code",
      "metadata": {
        "id": "22wwhMt7P6vK",
        "colab_type": "code",
        "colab": {}
      },
      "source": [
        "IBMQ.save_account('75ed5c790fc03e4cc6937b8bcd170d2fc3f72cb9f931ebbed2e11c9124b20d2b65c99a0a8cbb69884306828181f5051ebc01a2f4e4f4ba54fce8481b1c12dcfa')"
      ],
      "execution_count": 0,
      "outputs": []
    },
    {
      "cell_type": "code",
      "metadata": {
        "id": "drSBYfVpawad",
        "colab_type": "code",
        "colab": {}
      },
      "source": [
        "data_train = pd.read_feather('drive/My Drive/Public_Folder/data5_lumAB_train_normalized.feather')\n",
        "data_test = pd.read_feather('drive/My Drive/Public_Folder/data5_lumAB_test_normalized.feather')"
      ],
      "execution_count": 0,
      "outputs": []
    },
    {
      "cell_type": "code",
      "metadata": {
        "id": "f2PXVhQvbrXG",
        "colab_type": "code",
        "colab": {}
      },
      "source": [
        "x_data = pd.DataFrame(data=data_train, columns = data_train.columns)\n",
        "y_data = pd.DataFrame(data=data_train, columns = ['cancer'])\n",
        "\n",
        "x_test = pd.DataFrame(data = data_test, columns = data_test.columns)\n",
        "y_test = pd.DataFrame(data = data_test, columns = ['cancer'])"
      ],
      "execution_count": 0,
      "outputs": []
    },
    {
      "cell_type": "markdown",
      "metadata": {
        "id": "2qN60Tadq9w-",
        "colab_type": "text"
      },
      "source": [
        "We apply PCA to the dataset because ibmq can't handle more than 32 features (Each Qubit is mapped onto one feature and the maximum qubits available to us on IBM's OpenQasmSimulator are 32)."
      ]
    },
    {
      "cell_type": "code",
      "metadata": {
        "id": "U-NTDEYEbxbt",
        "colab_type": "code",
        "outputId": "8b5aa49d-c97d-4458-c53a-295b5a8bd920",
        "colab": {
          "base_uri": "https://localhost:8080/",
          "height": 74
        }
      },
      "source": [
        "pca = PCA(n_components = 10)\n",
        "label_encoder = LabelEncoder()\n",
        "y_data_labeless = label_encoder.fit_transform(y_data)\n",
        "y_test_labeless = label_encoder.fit_transform(y_test)"
      ],
      "execution_count": 0,
      "outputs": [
        {
          "output_type": "stream",
          "text": [
            "/usr/local/lib/python3.6/dist-packages/sklearn/preprocessing/_label.py:251: DataConversionWarning: A column-vector y was passed when a 1d array was expected. Please change the shape of y to (n_samples, ), for example using ravel().\n",
            "  y = column_or_1d(y, warn=True)\n"
          ],
          "name": "stderr"
        }
      ]
    },
    {
      "cell_type": "code",
      "metadata": {
        "id": "PT3JsGDTcJx9",
        "colab_type": "code",
        "colab": {}
      },
      "source": [
        "x_data_labeless = x_data.drop(columns = ['cancer'], axis=1)\n",
        "x_test_labeless = x_data.drop(columns = ['cancer'], axis=1)"
      ],
      "execution_count": 0,
      "outputs": []
    },
    {
      "cell_type": "code",
      "metadata": {
        "id": "PzVMsjPvdHS3",
        "colab_type": "code",
        "colab": {}
      },
      "source": [
        "x_data_pca = pca.fit_transform(x_data_labeless)\n",
        "x_test_pca = pca.transform(x_test_labeless)"
      ],
      "execution_count": 0,
      "outputs": []
    },
    {
      "cell_type": "code",
      "metadata": {
        "id": "hGW0_4EJd2cr",
        "colab_type": "code",
        "colab": {}
      },
      "source": [
        "A = np.empty(5)\n",
        "B = np.empty(5)\n",
        "A_test = np.empty(5)\n",
        "B_test = np.empty(5)\n",
        "for x in range(len(y_data_labeless)):\n",
        "  if y_data_labeless[x] == 0:\n",
        "    A = np.vstack((A, x_data_pca[x]))\n",
        "  else:\n",
        "    B = np.vstack((B, x_data_pca[x]))\n",
        "for x in range(len(y_test_labeless)):\n",
        "  if y_test_labeless[x] == 0:\n",
        "    A_test = np.vstack((A_test, x_test_pca[x]))\n",
        "  else:\n",
        "    B_test = np.vstack((B_test, x_test_pca[x]))\n",
        "A = np.delete(A, 0, axis=0)\n",
        "B = np.delete(B, 0, axis=0)\n",
        "A_test = np.delete(A_test, 0, axis=0)\n",
        "B_test = np.delete(B_test, 0, axis=0)\n",
        "sample = {\n",
        "      'A' : A,\n",
        "      'B' : B\n",
        "}\n",
        "test = {\n",
        "    'A' : A_test,\n",
        "    'B' : B_test\n",
        "}"
      ],
      "execution_count": 0,
      "outputs": []
    },
    {
      "cell_type": "code",
      "metadata": {
        "id": "VATUEGHRea0t",
        "colab_type": "code",
        "outputId": "c1a719cd-5d62-4b82-d818-28b42eb331ed",
        "colab": {
          "base_uri": "https://localhost:8080/",
          "height": 35
        }
      },
      "source": [
        "qiskit.__version__"
      ],
      "execution_count": 0,
      "outputs": [
        {
          "output_type": "execute_result",
          "data": {
            "text/plain": [
              "'0.14.1'"
            ]
          },
          "metadata": {
            "tags": []
          },
          "execution_count": 10
        }
      ]
    },
    {
      "cell_type": "code",
      "metadata": {
        "id": "6KdjLxMMfFn3",
        "colab_type": "code",
        "colab": {}
      },
      "source": [
        "shots = 1024\n",
        "seed = 10598\n",
        "feature_dims = 5\n",
        "\n",
        "provider = IBMQ.load_account()\n",
        "#backend1 = provider.get_backend('ibmq_vigo')\n",
        "noise_model = NoiseModel.from_backend(backend1)\n",
        "feature_map = ZZFeatureMap(feature_dimension=feature_dims, reps=2, entanglement='linear')\n",
        "qsvm = QSVM(feature_map, sample, test)"
      ],
      "execution_count": 0,
      "outputs": []
    },
    {
      "cell_type": "code",
      "metadata": {
        "id": "YyP3PmFthJyd",
        "colab_type": "code",
        "colab": {}
      },
      "source": [
        "backend = BasicAer.get_backend('qasm_simulator')\n",
        "quantum_instance = QuantumInstance(backend, shots=1024, seed_simulator=10598, seed_transpiler=10598)"
      ],
      "execution_count": 0,
      "outputs": []
    },
    {
      "cell_type": "code",
      "metadata": {
        "id": "bhYptuqnhZ91",
        "colab_type": "code",
        "colab": {}
      },
      "source": [
        "result = qsvm.run(quantum_instance, noise_model=noise_model)"
      ],
      "execution_count": 0,
      "outputs": []
    },
    {
      "cell_type": "code",
      "metadata": {
        "id": "MK7gtmUckn_0",
        "colab_type": "code",
        "outputId": "bd02559a-3db5-4d23-e714-e6ca3db6e8f2",
        "colab": {
          "base_uri": "https://localhost:8080/",
          "height": 35
        }
      },
      "source": [
        "print(\"Accuracy = \", result['testing_accuracy'] * 100)"
      ],
      "execution_count": 0,
      "outputs": [
        {
          "output_type": "stream",
          "text": [
            "Accuracy =  55.73770491803278\n"
          ],
          "name": "stdout"
        }
      ]
    },
    {
      "cell_type": "code",
      "metadata": {
        "id": "QpyRKlfZt8IW",
        "colab_type": "code",
        "colab": {}
      },
      "source": [
        ""
      ],
      "execution_count": 0,
      "outputs": []
    }
  ]
}